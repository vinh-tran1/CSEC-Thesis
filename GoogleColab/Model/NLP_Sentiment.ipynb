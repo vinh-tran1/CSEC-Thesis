{
  "cells": [
    {
      "cell_type": "markdown",
      "metadata": {
        "id": "4_qRbFoKEBap"
      },
      "source": [
        "# LLM Classification on Startup Description, Founder Education, Industry Outlook"
      ]
    },
    {
      "cell_type": "markdown",
      "metadata": {
        "id": "VMLwJrxXELCX"
      },
      "source": [
        "# Setup"
      ]
    },
    {
      "cell_type": "markdown",
      "metadata": {
        "id": "PC9Gy0Wu6z_s"
      },
      "source": [
        "#### Checks"
      ]
    },
    {
      "cell_type": "code",
      "execution_count": null,
      "metadata": {
        "colab": {
          "base_uri": "https://localhost:8080/"
        },
        "id": "k1rQCF2O602Y",
        "outputId": "d25d880e-85cc-4288-8c89-0872f6a505b6"
      },
      "outputs": [],
      "source": [
        "from psutil import virtual_memory\n",
        "!nvidia-smi\n",
        "ram_gb = virtual_memory().total / 1e9\n",
        "print(f\"RAM: {ram_gb:.1f} GB\")"
      ]
    },
    {
      "cell_type": "markdown",
      "metadata": {
        "id": "ox8BJYwrxVjq"
      },
      "source": [
        "#### TOKEN! PRIVATE!"
      ]
    },
    {
      "cell_type": "code",
      "execution_count": null,
      "metadata": {
        "id": "vfKM8flDxS_u"
      },
      "outputs": [],
      "source": [
        "HUGGING_FACE_CLI_TOKEN = '<token_here>'"
      ]
    },
    {
      "cell_type": "markdown",
      "metadata": {
        "id": "BOkE5WEL4Qx5"
      },
      "source": [
        "#### Hugging Face"
      ]
    },
    {
      "cell_type": "code",
      "execution_count": null,
      "metadata": {
        "colab": {
          "base_uri": "https://localhost:8080/"
        },
        "id": "UILTtPKe30mJ",
        "outputId": "69f25262-4d39-46eb-98a6-fd0c3053a760"
      },
      "outputs": [],
      "source": [
        "# Install necessary packages for LLM inference\n",
        "!pip install -q transformers accelerate bitsandbytes sentencepiece\n",
        "\n",
        "# Log in to Hugging Face to access gated models like Hermes\n",
        "!huggingface-cli login"
      ]
    },
    {
      "cell_type": "markdown",
      "metadata": {
        "id": "6jVKf1mvAhs5"
      },
      "source": [
        "#### Imports and Folders"
      ]
    },
    {
      "cell_type": "code",
      "execution_count": null,
      "metadata": {
        "colab": {
          "base_uri": "https://localhost:8080/"
        },
        "id": "olZSbgRaD3FG",
        "outputId": "36c76ecf-1a13-4aeb-df9b-9ae73d504d24"
      },
      "outputs": [],
      "source": [
        "# imports\n",
        "import os\n",
        "import gc\n",
        "import pandas as pd\n",
        "import numpy as np\n",
        "\n",
        "from transformers import AutoModelForCausalLM, AutoTokenizer, GenerationConfig\n",
        "\n",
        "import torch\n",
        "import re\n",
        "import json\n",
        "from tqdm.notebook import tqdm\n",
        "import pprint\n",
        "\n",
        "# Suppress verbose config warnings from Hugging Face\n",
        "import logging\n",
        "logging.getLogger(\"transformers.generation.configuration_utils\").setLevel(logging.ERROR)\n",
        "\n",
        "from google.colab import drive, runtime\n",
        "drive.mount('/content/drive', force_remount=True)"
      ]
    },
    {
      "cell_type": "code",
      "execution_count": null,
      "metadata": {
        "id": "zvXIxDx78YHH"
      },
      "outputs": [],
      "source": [
        "# Print current RAM usage to monitor memory pressure\n",
        "import psutil\n",
        "def print_memory():\n",
        "    mem = psutil.virtual_memory()\n",
        "    print(f\"Used: {mem.used/1e9:.1f} GB / {mem.total/1e9:.1f} GB ({mem.percent}%)\")"
      ]
    },
    {
      "cell_type": "code",
      "execution_count": null,
      "metadata": {
        "colab": {
          "base_uri": "https://localhost:8080/"
        },
        "id": "8Orco9HAESA-",
        "outputId": "b82d301d-1f38-4fdb-924f-f40ec27172e8"
      },
      "outputs": [],
      "source": [
        "input_folder = '/content/drive/MyDrive/Senior/Thesis/Code/Data/Input Data/'\n",
        "cleaned_data_folder = input_folder + 'cleaned_data'\n",
        "output_folder = '/content/drive/MyDrive/Senior/Thesis/Code/Data/Output Data/'\n",
        "\n",
        "# faulty_founder_path = os.path.join(cleaned_data_folder, 'faulty_rows_founder.csv')\n",
        "# faulty_outlook_path = os.path.join(cleaned_data_folder, 'faulty_rows_outlook.csv')\n",
        "\n",
        "# checkpoint_path = os.path.join(output_folder, 'faulty_rows_outlook_alignment_v2.jsonl')\n",
        "# founder_checkpoint_path = os.path.join(output_folder, 'faulty_rows_founder_score.jsonl')\n",
        "\n",
        "checkpoint_path = os.path.join(output_folder, 'alignment_scores.jsonl')\n",
        "# checkpoint_path = os.path.join(output_folder, 'alignment_scores_v2.jsonl')\n",
        "founder_checkpoint_path = os.path.join(output_folder, 'founder_strength_scores.jsonl')\n",
        "founder_final_output_path = os.path.join(output_folder,'cb_with_founder_score.csv')\n",
        "final_output_path = os.path.join(output_folder,'cb_with_alignment_score.csv')\n",
        "print(checkpoint_path)\n",
        "\n",
        "# Check contents of folders\n",
        "cleaned_data_contents = os.listdir(cleaned_data_folder)\n",
        "output_contents = os.listdir(output_folder)\n",
        "print(cleaned_data_contents)\n",
        "print(output_contents)"
      ]
    },
    {
      "cell_type": "code",
      "execution_count": null,
      "metadata": {
        "colab": {
          "base_uri": "https://localhost:8080/"
        },
        "id": "N7PSaJP_E9uM",
        "outputId": "dc1a8027-942e-497d-8f42-2df7b0efa0f6"
      },
      "outputs": [],
      "source": [
        "# File Paths\n",
        "CB_PATH = os.path.join(cleaned_data_folder, 'cb_final_data.csv')\n",
        "NLP_PATH = os.path.join(cleaned_data_folder, 'outlook.csv')\n",
        "cb_df = pd.read_csv(CB_PATH)\n",
        "nlp_df = pd.read_csv(NLP_PATH)\n",
        "\n",
        "print(f\"Crunchbase shape: {cb_df.shape}\")\n",
        "print(f\"Perplexity shape: {nlp_df.shape}\")\n",
        "print(\"\\nSample CB columns:\", cb_df.columns.tolist())\n",
        "print(\"\\nSample NLP columns:\", nlp_df.columns.tolist())"
      ]
    },
    {
      "cell_type": "code",
      "execution_count": null,
      "metadata": {
        "colab": {
          "base_uri": "https://localhost:8080/"
        },
        "id": "4RpZJAQnMXFA",
        "outputId": "803c0b4c-8366-4779-ea27-ec9317b68ded"
      },
      "outputs": [],
      "source": [
        "# # Loading faulty dfs\n",
        "# faulty_founder_df = pd.read_csv(faulty_founder_path)\n",
        "# faulty_outlook_df = pd.read_csv(faulty_outlook_path)\n",
        "\n",
        "# print(f\"Faulty Founder shape: {faulty_founder_df.shape}\")\n",
        "# print(f\"Faulty Outlook shape: {faulty_outlook_df.shape}\")\n",
        "# print(\"\\nSample Faulty Founder columns:\", faulty_founder_df.columns.tolist())\n",
        "# print(\"\\nSample Faulty Outlook columns:\", faulty_outlook_df.columns.tolist())"
      ]
    },
    {
      "cell_type": "markdown",
      "metadata": {
        "id": "orpO530AXg3b"
      },
      "source": [
        "# Startup -> Outlook"
      ]
    },
    {
      "cell_type": "markdown",
      "metadata": {
        "id": "CPfzvInHF-2o"
      },
      "source": [
        "## Step 0: Prepare Data"
      ]
    },
    {
      "cell_type": "code",
      "execution_count": null,
      "metadata": {
        "colab": {
          "base_uri": "https://localhost:8080/"
        },
        "id": "wsOtHtzfGA-K",
        "outputId": "662b7fb0-8dbd-41ae-cdd9-ebda9f3b6e3d"
      },
      "outputs": [],
      "source": [
        "# === INDUSTRY LIST ===\n",
        "\n",
        "target_industries = set([\n",
        "    'Cleantech', 'Consumer Goods', 'Fintech', 'Life Sciences',\n",
        "    'Media Entertainment and Gaming', 'Real Estate',\n",
        "    'Technology', 'Telecom', 'Transportation'\n",
        "])\n",
        "\n",
        "# === CLEAN + MAP INDUSTRIES ===\n",
        "def parse_industries(industry_str):\n",
        "    if pd.isna(industry_str):\n",
        "        return []\n",
        "    return [i.strip() for i in industry_str.split(\",\") if i.strip() in target_industries]\n",
        "\n",
        "cb_df[\"mapped_industries\"] = cb_df[\"industry\"].apply(parse_industries)\n",
        "\n",
        "# === FILTER OUT BAD ROWS ===\n",
        "cb_df = cb_df[cb_df[\"mapped_industries\"].map(len) > 0]\n",
        "cb_df = cb_df[cb_df[\"founded_year\"].between(2004, 2025)]\n",
        "\n",
        "# === INSPECT CLEANED OUTPUT ===\n",
        "print(f\"Filtered Crunchbase shape: {cb_df.shape}\")\n",
        "print(cb_df[[\"org_uuid\", \"founded_year\", \"mapped_industries\"]].head(5))"
      ]
    },
    {
      "cell_type": "markdown",
      "metadata": {
        "id": "ynYG4VxqH-Ry"
      },
      "source": [
        "## Step 1: Create Joinable Dataframe"
      ]
    },
    {
      "cell_type": "code",
      "execution_count": null,
      "metadata": {
        "id": "VqKAm0oeICHM"
      },
      "outputs": [],
      "source": [
        "# Ensure founded_on is datetime\n",
        "cb_df[\"founded_on\"] = pd.to_datetime(cb_df[\"founded_on\"], errors=\"coerce\")\n",
        "\n",
        "# Extract year into a clean column for join\n",
        "cb_df[\"founded_year\"] = cb_df[\"founded_on\"].dt.year\n",
        "\n",
        "# Drop rows with missing or out-of-bounds years\n",
        "cb_df = cb_df[cb_df[\"founded_year\"].between(2004, 2025)]\n",
        "\n",
        "# STEP 1A: Drop the original 'industry' string column (we'll replace it with the exploded list)\n",
        "cb_exploded = cb_df.drop(columns=[\"industry\"]).explode(\"mapped_industries\")\n",
        "\n",
        "# STEP 1B: Rename mapped_industries → industry and clean whitespace\n",
        "cb_exploded = cb_exploded.rename(columns={\"mapped_industries\": \"industry\"})\n",
        "cb_exploded[\"industry\"] = cb_exploded[\"industry\"].astype(str).str.strip()\n"
      ]
    },
    {
      "cell_type": "code",
      "execution_count": null,
      "metadata": {
        "colab": {
          "base_uri": "https://localhost:8080/"
        },
        "id": "9uUH7u32NM9V",
        "outputId": "481d44c6-4b60-43a6-faf4-f3ea2f60144e"
      },
      "outputs": [],
      "source": [
        "res = cb_exploded[cb_exploded['org_uuid'].str.lower() == 'df662812-7f97-0b43-9d3e-12f64f504fbb']\n",
        "print(res.head(10))"
      ]
    },
    {
      "cell_type": "code",
      "execution_count": null,
      "metadata": {
        "id": "PzsM-KrqNE5B"
      },
      "outputs": [],
      "source": [
        "# STEP 1C: Merge with Perplexity outlooks\n",
        "cb_exploded = cb_exploded.merge(\n",
        "    nlp_df,\n",
        "    left_on=[\"industry\", \"founded_year\"],\n",
        "    right_on=[\"industry\", \"year\"],\n",
        "    how=\"inner\"\n",
        ")"
      ]
    },
    {
      "cell_type": "code",
      "execution_count": null,
      "metadata": {
        "id": "IGF9eXlXjLiE"
      },
      "outputs": [],
      "source": [
        "cb_exploded = cb_exploded.drop(columns=[\"year\", \"tokens_estimate\"])"
      ]
    },
    {
      "cell_type": "code",
      "execution_count": null,
      "metadata": {
        "colab": {
          "base_uri": "https://localhost:8080/"
        },
        "id": "0n5MWv3WMf5I",
        "outputId": "aa200cf3-5531-49a6-c094-3f94adf4d745"
      },
      "outputs": [],
      "source": [
        "# Preview\n",
        "print(cb_exploded.shape)\n",
        "print()\n",
        "print(cb_exploded.info())\n",
        "print()\n",
        "print(cb_exploded.head())\n"
      ]
    },
    {
      "cell_type": "code",
      "execution_count": null,
      "metadata": {
        "colab": {
          "base_uri": "https://localhost:8080/",
          "height": 250
        },
        "id": "ShXIuK83e_w8",
        "outputId": "05754b62-8350-4ee5-dc49-3785805cb6d3"
      },
      "outputs": [],
      "source": [
        "res = cb_exploded[[\"org_description\", \"industry\", \"summary\"]]\n",
        "res.head(2)"
      ]
    },
    {
      "cell_type": "code",
      "execution_count": null,
      "metadata": {
        "id": "gibLLr1Ilhxt"
      },
      "outputs": [],
      "source": [
        "cb_nlp_path = os.path.join(output_folder, 'cb_nlp_merge.csv')\n",
        "cb_exploded.to_csv(cb_nlp_path, index=False)"
      ]
    },
    {
      "cell_type": "markdown",
      "metadata": {
        "id": "46S7UK_mnS6i"
      },
      "source": [
        "## Step 2: Using LLM to Compare Description with Outlook\n",
        "Uses Batching!"
      ]
    },
    {
      "cell_type": "markdown",
      "metadata": {
        "id": "2FnAv4hN5Hs2"
      },
      "source": [
        "#### Load"
      ]
    },
    {
      "cell_type": "code",
      "execution_count": null,
      "metadata": {
        "colab": {
          "base_uri": "https://localhost:8080/"
        },
        "id": "X5w7fbIU4vw5",
        "outputId": "fc140c7c-dcde-45a9-a304-cb7b74a8940f"
      },
      "outputs": [],
      "source": [
        "# Load csv into df\n",
        "cb_nlp_path = os.path.join(output_folder, 'cb_nlp_merge.csv')\n",
        "cb_nlp_df = pd.read_csv(cb_nlp_path)\n",
        "print(f\"Loaded {len(cb_nlp_df)} rows.\")\n",
        "print()\n",
        "print(cb_nlp_df.info())"
      ]
    },
    {
      "cell_type": "code",
      "execution_count": null,
      "metadata": {
        "colab": {
          "base_uri": "https://localhost:8080/"
        },
        "id": "nZuiAMejA1Y9",
        "outputId": "1c7f005f-4bd3-4311-e446-3e29861de5fd"
      },
      "outputs": [],
      "source": [
        "# \"\"\"\n",
        "# Temp for re-running on subsets\n",
        "# \"\"\"\n",
        "# # Ensure org_uuid is string for safe matching\n",
        "# cb_nlp_df[\"org_uuid\"] = cb_nlp_df[\"org_uuid\"].astype(str)\n",
        "# faulty_outlook_df[\"org_uuid\"] = faulty_outlook_df[\"org_uuid\"].astype(str)\n",
        "\n",
        "# # Subset the rows from cb_df that match the faulty sets\n",
        "# outlook_subset = cb_nlp_df[cb_nlp_df[\"org_uuid\"].isin(faulty_outlook_df[\"org_uuid\"])]\n",
        "\n",
        "# # Optional: check the counts\n",
        "# print(f\"Original cb_nlp_df: {len(cb_nlp_df)} rows\")\n",
        "# print(f\"Faulty outlooks: {len(outlook_subset)} rows\")"
      ]
    },
    {
      "cell_type": "code",
      "execution_count": null,
      "metadata": {
        "id": "ALzl02Y7nZ71"
      },
      "outputs": [],
      "source": [
        "# Load the LLM model and tokenizer with 8-bit quantization to reduce GPU memory usage\n",
        "\n",
        "def load_model(model_name=\"NousResearch/Hermes-2-Pro-Mistral-7B\"):\n",
        "    print(f\"Loading model: {model_name}\")\n",
        "    tokenizer = AutoTokenizer.from_pretrained(model_name, use_fast=True)\n",
        "\n",
        "    if tokenizer.pad_token is None:\n",
        "        tokenizer.pad_token = tokenizer.eos_token\n",
        "        tokenizer.pad_token_id = tokenizer.eos_token_id\n",
        "\n",
        "    model = AutoModelForCausalLM.from_pretrained(\n",
        "        model_name,\n",
        "        device_map=\"auto\",\n",
        "        torch_dtype=torch.float16,\n",
        "        load_in_8bit=True\n",
        "    )\n",
        "\n",
        "    gen_config = GenerationConfig(\n",
        "        max_new_tokens=20,\n",
        "        temperature=0.01,\n",
        "        repetition_penalty=0.1,\n",
        "        do_sample=False,\n",
        "        pad_token_id=tokenizer.pad_token_id,\n",
        "        eos_token_id=tokenizer.eos_token_id\n",
        "    )\n",
        "\n",
        "    return model, tokenizer, gen_config"
      ]
    },
    {
      "cell_type": "markdown",
      "metadata": {
        "id": "Ge1C6-v85Lxg"
      },
      "source": [
        "#### Prompt"
      ]
    },
    {
      "cell_type": "code",
      "execution_count": null,
      "metadata": {
        "id": "9k-lvIWfc_oc"
      },
      "outputs": [],
      "source": [
        "# print(nlp_df.shape)"
      ]
    },
    {
      "cell_type": "code",
      "execution_count": null,
      "metadata": {
        "id": "3qfWRZlmcQDl"
      },
      "outputs": [],
      "source": [
        "# # Build a cache of outlook text blocks by (industry, year)\n",
        "# def build_outlook_cache(df):\n",
        "#     cache = {}\n",
        "#     for _, row in df.iterrows():\n",
        "#         key = (row[\"industry\"], row[\"founded_year\"])\n",
        "#         body = (\n",
        "#             f\"Industry Context – {row['industry']} in {row['founded_year']}:\\n\\n\"\n",
        "#             f\"Summary:\\n{row['summary']}\\n\\n\"\n",
        "#             f\"Trends:\\n{row['trends']}\\n\\n\"\n",
        "#             f\"Infrastructure:\\n{row['infrastructure']}\\n\\n\"\n",
        "#             f\"Market Outlook:\\n{row['outlook']}\\n\\n\"\n",
        "#             f\"Timing Signal:\\n{row['timing_signal']}\\n\"\n",
        "#         )\n",
        "#         cache[key] = body\n",
        "#     return cache\n",
        "\n",
        "# # Create the outlook cache (do this right after loading cb_df)\n",
        "# outlook_cache = build_outlook_cache(cb_nlp_df)\n",
        "# print(len(outlook_cache))\n"
      ]
    },
    {
      "cell_type": "code",
      "execution_count": null,
      "metadata": {
        "id": "Srh4jRjI5NE9"
      },
      "outputs": [],
      "source": [
        "# Preprocess and format each prompt as a Hermes-style chat message\n",
        "\n",
        "def clean_description(text, word_limit=150):\n",
        "    if pd.isna(text) or not isinstance(text, str):\n",
        "      return \"\"\n",
        "    text = text.replace('\\xa0', ' ').strip()\n",
        "    words = text.split()\n",
        "    return ' '.join(words[:word_limit])\n",
        "\n",
        "def format_messages(row):\n",
        "    desc = clean_description(row[\"org_description\"])\n",
        "\n",
        "    system_prompt = (\n",
        "        \"You are a seasoned venture capitalist evaluating startups **at the time they were founded**.\\n\"\n",
        "        \"\\n\"\n",
        "        \"Your goal is to rigorously assess whether a startup was likely to succeed **given the conditions of its founding year**.\\n\"\n",
        "        \"Base your judgement on:\\n\"\n",
        "        \"- How well the startup's idea aligns with the market conditions, trends, and infrastructure available in the founding year.\\n\"\n",
        "        \"- The feasibility and clarity of the startup based on its description — but ONLY as it would have been understood at the time.\\n\"\n",
        "        \"\\n\"\n",
        "        \"**Important:** Most startups fail. Be skeptical. Startups that sound good on paper often still fail due to poor timing or lack of supporting infrastructure.\\n\"\n",
        "        \"You should assign a score of **3 or below to at least two-thirds of startups (66%) you evaluate**.\\n\"\n",
        "        \"\\n\"\n",
        "        \"If the startup description includes future events (rebrands, acquisitions, IPOs, product launches years later), **ignore them**. Evaluate only what would have been visible to investors **at the time of founding**.\\n\"\n",
        "        \"\\n\"\n",
        "        \"FORMAT REQUIREMENTS:\\n\"\n",
        "        \"- You MUST ALWAYS respond with a numerical score.\\n\"\n",
        "        \"- Answer MUST be a single digit from 1 to 5\\n\"\n",
        "        \"- NO explanation, reasoning, jibberish, or special characters\\n\"\n",
        "        \"- NO full sentences\\n\"\n",
        "        \"- NO excerpts from the outlook\\n\"\n",
        "        \"- ONLY return the digit on its own line\\n\"\n",
        "        \"- Do not prefix with 'Answer:' or similar\\n\"\n",
        "        \"\\n\"\n",
        "        \"SCORE INTERPRETATION:\\n\"\n",
        "        \"1 = Weak or vague idea and description, AND clearly misaligned with the industry conditions (market not ready, infrastructure lacking)\\n\"\n",
        "        \"2 = Some promise in the idea, but misaligned with trends and poorly timed for success\\n\"\n",
        "        \"3 = Reasonably strong idea OR some alignment with market conditions, but not both\\n\"\n",
        "        \"4 = Good idea AND somewhat aligned with trends and infrastructure — has potential, but not perfect timing\\n\"\n",
        "        \"5 = Excellent idea AND perfectly aligned with the market, trends, and infrastructure at the time — ideal conditions for success\\n\"\n",
        "        \"\\n\"\n",
        "        \"EXAMPLES:\\n\"\n",
        "        \"-1\\n\"\n",
        "        \"-2\\n\"\n",
        "        \"-3\\n\"\n",
        "        \"-4\\n\"\n",
        "        \"-5\"\n",
        "    )\n",
        "\n",
        "    user_prompt = (\n",
        "        f\"Startup Description:\\n{desc}\\n\\n\"\n",
        "        f\"Industry Context – {row['industry']} in {row['founded_year']}:\\n\\n\"\n",
        "        f\"Summary:\\n{row['summary']}\\n\\n\"\n",
        "        f\"Trends:\\n{row['trends']}\\n\\n\"\n",
        "        f\"Infrastructure:\\n{row['infrastructure']}\\n\\n\"\n",
        "        f\"Market Outlook:\\n{row['outlook']}\\n\\n\"\n",
        "        f\"Timing Signal:\\n{row['timing_signal']}\\n\\n\"\n",
        "        \"Based on this information, how likely is this startup to succeed in its founding year?\\n\"\n",
        "        \"Be rigorous. Respond ONLY with a single digit from 1 to 5.\"\n",
        "    )\n",
        "\n",
        "    return [\n",
        "        {\"role\": \"system\", \"content\": system_prompt},\n",
        "        {\"role\": \"user\", \"content\": user_prompt}\n",
        "    ]\n"
      ]
    },
    {
      "cell_type": "markdown",
      "metadata": {
        "id": "wgpN6Fhh6SEj"
      },
      "source": [
        "#### Helper Functions"
      ]
    },
    {
      "cell_type": "code",
      "execution_count": null,
      "metadata": {
        "id": "s88qTPOr6UVl"
      },
      "outputs": [],
      "source": [
        "# Extract the first clean 1–5 rating from raw model output\n",
        "def parse_score(output_text):\n",
        "    match = re.search(r\"\\b([1-5])\\b\", output_text)\n",
        "    return int(match.group(1)) if match else None\n",
        "\n",
        "# Save intermediate results to Drive in JSONL format\n",
        "def save_checkpoint(results, filename):\n",
        "    print(f\"Saving {len(results)} rows to {filename}\")\n",
        "    with open(filename, \"a\") as f:\n",
        "        for r in results:\n",
        "            f.write(json.dumps(r) + \"\\n\")\n",
        "\n",
        "# Track which org_uuids have already been scored\n",
        "def load_existing_checkpoint(filename):\n",
        "    seen = set()\n",
        "    if os.path.exists(filename):\n",
        "        with open(filename, \"r\") as f:\n",
        "            for line in f:\n",
        "                try:\n",
        "                    entry = json.loads(line)\n",
        "                    seen.add(entry[\"org_uuid\"])\n",
        "                except:\n",
        "                    continue\n",
        "    return seen"
      ]
    },
    {
      "cell_type": "markdown",
      "metadata": {
        "id": "JJT9W5f46Xuy"
      },
      "source": [
        "#### Run Inference"
      ]
    },
    {
      "cell_type": "code",
      "execution_count": null,
      "metadata": {
        "id": "1QX9_0my6YpZ"
      },
      "outputs": [],
      "source": [
        "# Main inference loop that resumes from checkpoint and logs raw output + parsed score\n",
        "\n",
        "def run_inference(df, model, tokenizer, gen_config, checkpoint_path=checkpoint_path, batch_size=25):\n",
        "    completed = load_existing_checkpoint(checkpoint_path)\n",
        "    print(f\"Resuming from {len(completed)} completed rows.\")\n",
        "\n",
        "    results = []\n",
        "    total = len(df)\n",
        "\n",
        "    for i, row in tqdm(df.iterrows(), total=total):\n",
        "        if row[\"org_uuid\"] in completed:\n",
        "            continue\n",
        "\n",
        "        try:\n",
        "            messages = format_messages(row)\n",
        "            input_ids = tokenizer.apply_chat_template(messages, return_tensors=\"pt\", tokenize=True).to(model.device)\n",
        "\n",
        "            with torch.no_grad():\n",
        "                output = model.generate(\n",
        "                    input_ids=input_ids,\n",
        "                    generation_config=gen_config\n",
        "                )\n",
        "            # decoded = tokenizer.decode(output[0], skip_special_tokens=True)\n",
        "            # score = parse_score(decoded)\n",
        "            output_ids = output[0][input_ids.shape[-1]:] # Remove prompt tokens to isolate just the generated output\n",
        "            decoded = tokenizer.decode(output_ids, skip_special_tokens=True)\n",
        "            score = parse_score(decoded)\n",
        "\n",
        "            results.append({\n",
        "                \"org_uuid\": row[\"org_uuid\"],\n",
        "                \"industry\": row[\"industry\"],\n",
        "                \"founded_year\": row[\"founded_year\"],\n",
        "                \"score\": score,\n",
        "                \"raw_output\": decoded.strip()\n",
        "            })\n",
        "\n",
        "            if len(results) >= batch_size:\n",
        "                save_checkpoint(results, checkpoint_path)\n",
        "                results = []\n",
        "\n",
        "            if i % 500 == 0:\n",
        "              print_memory()\n",
        "\n",
        "        except Exception as e:\n",
        "            print(f\"Error at index {i}: {e}\")\n",
        "            continue\n",
        "\n",
        "    if results:\n",
        "        save_checkpoint(results, checkpoint_path)\n"
      ]
    },
    {
      "cell_type": "markdown",
      "metadata": {
        "id": "pdgExc6V6pjm"
      },
      "source": [
        "#### Run"
      ]
    },
    {
      "cell_type": "code",
      "execution_count": null,
      "metadata": {
        "colab": {
          "base_uri": "https://localhost:8080/",
          "height": 137,
          "referenced_widgets": [
            "167291f0d95a4b6883d38c01105f273f",
            "48acd15181ce4a9f922f2cdfbd4cad15",
            "ce1edb8e40554274914ec64611a9f8c1",
            "4d1dd4d6950e4af7b9eba21d4f349ec4",
            "2fdd9f2078474d79b762d6af4b3c5b71",
            "473a53dbae244951b68a50527c58756c",
            "b0faf28958084c9fb034d6b68a77c82a",
            "2d5b0dfa9a184415bfb19eff4f0e59ac",
            "4b76f732f9d34c379d14f2def7c69de3",
            "462dc64c56204a16904af26baf8d1c89",
            "a87c4906b93840ec849b74361365aa53"
          ]
        },
        "id": "dXhrdOQV6pAm",
        "outputId": "d0b4866d-e935-4176-fec5-9deddd11592c"
      },
      "outputs": [],
      "source": [
        "model, tokenizer, gen_config = load_model()"
      ]
    },
    {
      "cell_type": "markdown",
      "metadata": {
        "id": "olKfjC-V7hMb"
      },
      "source": [
        "##### Test"
      ]
    },
    {
      "cell_type": "code",
      "execution_count": null,
      "metadata": {
        "colab": {
          "base_uri": "https://localhost:8080/"
        },
        "id": "9dh-S_Sf7iB6",
        "outputId": "71d469b7-09be-409e-e586-975fdd083f4f"
      },
      "outputs": [],
      "source": [
        "# Test inference on one row\n",
        "org_name = \"1663f36c-d3b6-0e52-c79a-65a866c90b58\"\n",
        "# sample_row = cb_nlp_df[cb_nlp_df[\"org_name\"] == org_name].iloc[0]\n",
        "sample_row = cb_nlp_df[cb_nlp_df[\"org_uuid\"] == org_name].iloc[0]\n",
        "messages = format_messages(sample_row)\n",
        "input_ids = tokenizer.apply_chat_template(messages, return_tensors=\"pt\", tokenize=True).to(model.device)\n",
        "\n",
        "with torch.no_grad():\n",
        "    output = model.generate(\n",
        "        input_ids=input_ids,\n",
        "        generation_config=gen_config\n",
        "    )\n",
        "\n",
        "output_ids = output[0][input_ids.shape[-1]:]\n",
        "decoded = tokenizer.decode(output_ids, skip_special_tokens=True)\n",
        "score = parse_score(decoded)\n",
        "\n",
        "print(\"Input:\\n\", messages[1])\n",
        "print(\"Raw output:\\n\", decoded.strip())\n",
        "print()\n",
        "print(\"Parsed score:\", score)"
      ]
    },
    {
      "cell_type": "markdown",
      "metadata": {
        "id": "QTNghVfd8LBK"
      },
      "source": [
        "##### Real"
      ]
    },
    {
      "cell_type": "code",
      "execution_count": null,
      "metadata": {
        "colab": {
          "base_uri": "https://localhost:8080/",
          "height": 528,
          "referenced_widgets": [
            "80143d0260f64b6cb5a17e7b31ec654a",
            "7ccbfa9a403540aa9d17ef1f0925a059",
            "c608301722934ba8a7bdd4698faa66f8",
            "c24eeee4da5e4cbd8548ae30fd3f5785",
            "0e178c23ba60436e9fcb87d52bfafabe",
            "2a5d51dc47fa4a3999c0f49347ec99b6",
            "324b8939bc0d41529e6b6cd44844c946",
            "b9e26d59b34c4a79b7dbc63c5b0d62a1",
            "1a80af84ddd34be6818b2010bfbe1777",
            "b899942a0e824e82a566c95115e57535",
            "77349d6967904e4ca671b4bd0502806d"
          ]
        },
        "id": "-caajAGp8DGg",
        "outputId": "bc833f79-b7ac-4f9b-f09a-544a1ee28c5b"
      },
      "outputs": [],
      "source": [
        "# run_inference(cb_nlp_df, model, tokenizer, gen_config)\n",
        "run_inference(cb_nlp_df, model, tokenizer, gen_config, checkpoint_path=checkpoint_path)"
      ]
    },
    {
      "cell_type": "code",
      "execution_count": null,
      "metadata": {
        "id": "r4e88l7o-A3a"
      },
      "outputs": [],
      "source": [
        "runtime.unassign()"
      ]
    },
    {
      "cell_type": "markdown",
      "metadata": {
        "id": "e_YLaAKUX89B"
      },
      "source": [
        "# Founder Description"
      ]
    },
    {
      "cell_type": "code",
      "execution_count": null,
      "metadata": {
        "colab": {
          "base_uri": "https://localhost:8080/"
        },
        "id": "4kAUg_5MCn0K",
        "outputId": "a6a56bab-7df2-4de6-872c-5b7b8b8b9524"
      },
      "outputs": [],
      "source": [
        "# \"\"\"\n",
        "# Temp for re-running on subsets\n",
        "# \"\"\"\n",
        "# # Ensure org_uuid is string for safe matching\n",
        "# cb_df[\"org_uuid\"] = cb_df[\"org_uuid\"].astype(str)\n",
        "# faulty_founder_df[\"org_uuid\"] = faulty_founder_df[\"org_uuid\"].astype(str)\n",
        "\n",
        "# # Subset the rows from cb_df that match the faulty sets\n",
        "# founder_subset = cb_df[cb_df[\"org_uuid\"].isin(faulty_founder_df[\"org_uuid\"])]\n",
        "\n",
        "# # Optional: check the counts\n",
        "# print(f\"Original cb_df: {len(cb_nlp_df)} rows\")\n",
        "# print(f\"Faulty founders: {len(founder_subset)} rows\")"
      ]
    },
    {
      "cell_type": "markdown",
      "metadata": {
        "id": "6GC04qnFoFAF"
      },
      "source": [
        "### Code"
      ]
    },
    {
      "cell_type": "code",
      "execution_count": null,
      "metadata": {
        "id": "XRHK0_C0X_aH"
      },
      "outputs": [],
      "source": [
        "# ========== CONFIG ========== #\n",
        "MODEL_NAME = \"NousResearch/Hermes-2-Pro-Mistral-7B\"\n",
        "CHECKPOINT_PATH = founder_checkpoint_path\n",
        "BATCH_SIZE = 25\n",
        "MAX_NEW_TOKENS = 20"
      ]
    },
    {
      "cell_type": "code",
      "execution_count": null,
      "metadata": {
        "id": "nQP6S8AkeXKf"
      },
      "outputs": [],
      "source": [
        "# ========== LOAD MODEL & TOKENIZER ========== #\n",
        "def load_model(model_name=MODEL_NAME):\n",
        "    print(f\"Loading model: {model_name}\")\n",
        "    tokenizer = AutoTokenizer.from_pretrained(model_name, use_fast=True)\n",
        "\n",
        "    if tokenizer.pad_token is None:\n",
        "        tokenizer.pad_token = tokenizer.eos_token\n",
        "        tokenizer.pad_token_id = tokenizer.eos_token_id\n",
        "\n",
        "    model = AutoModelForCausalLM.from_pretrained(\n",
        "        model_name,\n",
        "        device_map=\"auto\",\n",
        "        torch_dtype=torch.float16,\n",
        "        load_in_8bit=True\n",
        "    )\n",
        "\n",
        "    # --- Generation Configuration ---\n",
        "    # We want deterministic, concise output (just the score)\n",
        "    gen_config = GenerationConfig(\n",
        "        max_new_tokens=MAX_NEW_TOKENS,  # Only need a few tokens for the score\n",
        "        temperature=0.01,       # Low temperature for deterministic output\n",
        "        repetition_penalty=0.1, # Slightly penalize repetition\n",
        "        do_sample=False,\n",
        "        pad_token_id=tokenizer.pad_token_id,\n",
        "        eos_token_id=tokenizer.eos_token_id,\n",
        "    )\n",
        "\n",
        "    return model, tokenizer, gen_config"
      ]
    },
    {
      "cell_type": "code",
      "execution_count": null,
      "metadata": {
        "id": "M-V_4gxgeYX1"
      },
      "outputs": [],
      "source": [
        "# ========== PROMPT FORMATTING ========== #\n",
        "def clean_description(text, word_limit=400):\n",
        "    if pd.isna(text) or not isinstance(text, str):\n",
        "        return \"\"\n",
        "    text = text.replace('\\xa0', ' ').strip()\n",
        "    words = text.split()\n",
        "    return ' '.join(words[:word_limit])\n",
        "\n",
        "def format_messages(row):\n",
        "    founder_blob = clean_description(row[\"founder_description_blob\"])\n",
        "\n",
        "    system_prompt = (\n",
        "        \"You are an expert analyst evaluating the strength of startup founders' backgrounds.\\n\"\n",
        "        \"Your task is to assess the collective background strength based *only* on the provided text description.\\n\"\n",
        "        \"Consider factors like:\\n\"\n",
        "        \"- **Education:** Prestige of institutions (e.g., Ivy League, Stanford, MIT), relevant degrees (e.g., CS, Engineering, MBA).\\n\"\n",
        "        \"- **Prior Experience:** Roles at well-known successful companies (e.g., FAANG, successful startups), relevant industry experience, leadership positions.\\n\"\n",
        "        \"- **Entrepreneurial Track Record:** Previous founding experience, successful exits.\\n\"\n",
        "        \"- **Accolades/Achievements:** Mention of significant accomplishments, awards, patents etc.\\n\\n\"\n",
        "        \"Assign a score from 1 to 5 based on the overall impression of the founder(s)' potential, derived *strictly* from the text:\\n\"\n",
        "        \"1 = **Very Weak:** Little to no relevant education or experience mentioned. Background seems unsuitable or irrelevant.\\n\"\n",
        "        \"2 = **Weak:** Some basic education or unrelated experience. Lacks notable achievements or prestigious affiliations.\\n\"\n",
        "        \"3 = **Average:** Decent education (may not be top-tier) OR some relevant industry experience. Meets basic expectations but isn't outstanding.\\n\"\n",
        "        \"4 = **Strong:** Prestigious education (e.g., top university) OR significant relevant experience (e.g., key roles at known companies, prior founding experience). Clear indicators of high potential.\\n\"\n",
        "        \"5 = **Exceptional:** Multiple strong indicators. Combination of top-tier education, significant relevant experience at high-profile companies, proven entrepreneurial success (e.g., previous exits), clear leadership. Outstanding potential visible from the description.\\n\\n\"\n",
        "        \"FORMAT REQUIREMENTS:\\n\"\n",
        "        \"- You MUST ALWAYS respond with a score\\n\"\n",
        "        \"- Answer MUST be a single digit from 1 to 5\\n\"\n",
        "        \"- NO explanation, reasoning, or special characters\\n\"\n",
        "        \"- NO full sentences\\n\"\n",
        "        \"- NO reiteration of the background\\n\"\n",
        "        \"- ONLY return the digit on its own line\\n\"\n",
        "        \"- Do not prefix with 'Answer:' or similar\\n\"\n",
        "        \"\\n\"\n",
        "        \"EXAMPLE OUTPUTS:\\n\"\n",
        "        \"- 1\\n\"\n",
        "        \"- 2\\n\"\n",
        "        \"- 3\\n\"\n",
        "        \"- 4\\n\"\n",
        "        \"- 5\"\n",
        "    )\n",
        "\n",
        "    user_prompt = (\n",
        "        f\"Founder Description(s):\\n```\\n{founder_blob}\\n```\\n\\n\"\n",
        "        \"Based *only* on the description above, rate the overall strength of the founder(s)' background. Respond ONLY with a single digit from 1 to 5.\"\n",
        "    )\n",
        "\n",
        "    # Format for Hermes-2-Pro (ChatML-like structure)\n",
        "    # See: https://huggingface.co/NousResearch/Hermes-2-Pro-Mistral-7B#prompt-format\n",
        "    messages = [\n",
        "        {\"role\": \"system\", \"content\": system_prompt},\n",
        "        {\"role\": \"user\", \"content\": user_prompt}\n",
        "    ]\n",
        "    return messages\n"
      ]
    },
    {
      "cell_type": "code",
      "execution_count": null,
      "metadata": {
        "id": "JhWbmfgsfxdU"
      },
      "outputs": [],
      "source": [
        "# ========== SCORING & PARSING ========== #\n",
        "def parse_score(output_text):\n",
        "    match = re.search(r\"\\b([1-5])\\b\", output_text)\n",
        "    return int(match.group(1)) if match else None\n",
        "\n",
        "# ========== IO & CHECKPOINTING ========== #\n",
        "def save_checkpoint(results, filename):\n",
        "    print(f\"Saving {len(results)} rows to {filename}\")\n",
        "    with open(filename, \"a\") as f:\n",
        "        for r in results:\n",
        "            f.write(json.dumps(r) + \"\\n\")\n",
        "\n",
        "def load_existing_checkpoint(filename):\n",
        "    seen = set()\n",
        "    if os.path.exists(filename):\n",
        "        with open(filename, \"r\") as f:\n",
        "            for line in f:\n",
        "                try:\n",
        "                    entry = json.loads(line)\n",
        "                    seen.add(entry[\"org_uuid\"])\n",
        "                except:\n",
        "                    continue\n",
        "    return seen"
      ]
    },
    {
      "cell_type": "code",
      "execution_count": null,
      "metadata": {
        "id": "LEnrhuuxfzMm"
      },
      "outputs": [],
      "source": [
        "# ========== MAIN INFERENCE LOOP ========== #\n",
        "def run_inference(df, model, tokenizer, gen_config, checkpoint_path=CHECKPOINT_PATH, batch_size=BATCH_SIZE):\n",
        "    completed = load_existing_checkpoint(checkpoint_path)\n",
        "    print(f\"Resuming from {len(completed)} completed rows.\")\n",
        "\n",
        "    results = []\n",
        "\n",
        "    for i, row in tqdm(df.iterrows(), total=len(df)):\n",
        "        if row[\"org_uuid\"] in completed:\n",
        "            continue\n",
        "\n",
        "        try:\n",
        "            messages = format_messages(row)\n",
        "            input_ids = tokenizer.apply_chat_template(\n",
        "                messages,\n",
        "                return_tensors=\"pt\",\n",
        "                tokenize=True\n",
        "            ).to(model.device)\n",
        "\n",
        "            with torch.no_grad():\n",
        "                output = model.generate(input_ids=input_ids, generation_config=gen_config)\n",
        "\n",
        "            output_ids = output[0][input_ids.shape[-1]:]\n",
        "            decoded = tokenizer.decode(output_ids, skip_special_tokens=True)\n",
        "            score = parse_score(decoded)\n",
        "\n",
        "            results.append({\n",
        "                \"org_uuid\": row[\"org_uuid\"],\n",
        "                \"org_name\": row[\"org_name\"],\n",
        "                \"score\": score,\n",
        "                \"raw_output\": decoded.strip(),\n",
        "            })\n",
        "\n",
        "            if len(results) >= batch_size:\n",
        "                save_checkpoint(results, checkpoint_path)\n",
        "                results = []\n",
        "\n",
        "        except Exception as e:\n",
        "            print(f\"Error at row {i}: {e}\")\n",
        "            continue\n",
        "\n",
        "    if results:\n",
        "        save_checkpoint(results, checkpoint_path)"
      ]
    },
    {
      "cell_type": "markdown",
      "metadata": {
        "id": "kHHX6kJdiF0r"
      },
      "source": [
        "### Load Model"
      ]
    },
    {
      "cell_type": "code",
      "execution_count": null,
      "metadata": {
        "colab": {
          "base_uri": "https://localhost:8080/",
          "height": 103,
          "referenced_widgets": [
            "333add43632b49da853e97d16e3a25bf",
            "2528b3ee99ac4d0889700a9404ee6b96",
            "08ad3d6fd031483fa3fe40998543d382",
            "8f8f3e5f38a9403e8be7a380cb9a8851",
            "651b680ce1bb461982d816b6d2e3aeac",
            "27ddc0e80c8a4898a9aeca8858b7febb",
            "f03675971e3f44218841904ac4d4144b",
            "7c91f37a688b4ad98f2b4c62f805b9c7",
            "b1aac3085f414d2bb2e656ba56c02745",
            "df9b50030351419eb8658705650f8432",
            "23c33346a2cd4188bf954b6fea703f10"
          ]
        },
        "id": "w8Vhkczag82u",
        "outputId": "47aa9d33-351e-4339-8dce-b55bd5fce46e"
      },
      "outputs": [],
      "source": [
        "# ========== RUN EVERYTHING ========== #\n",
        "model, tokenizer, gen_config = load_model()"
      ]
    },
    {
      "cell_type": "markdown",
      "metadata": {
        "id": "yL-czdbOh-8H"
      },
      "source": [
        "### Running"
      ]
    },
    {
      "cell_type": "code",
      "execution_count": null,
      "metadata": {
        "colab": {
          "base_uri": "https://localhost:8080/",
          "height": 239,
          "referenced_widgets": [
            "dc3cf087a5204f7b80418f49688e17ec",
            "e1462c1faf2542149b190579a3097724",
            "f79b96eaf0094c65842c79e1d6c977db",
            "9e0c209486734020a7b49d1026f3a894",
            "076d866848ac4545b54f7db4c0307c4d",
            "34dbc7221e014f299e6c3041249bc610",
            "44d83545a23141ab9e1baa7f7a7125fe",
            "7f72b287d0214c8d8321cec74d1aff98",
            "79e4c0b37c3a4f5090f74fc0742f2747",
            "8a678367f92342bf88654242bbaf6ff1",
            "4dba844c7e7e4091b4ad67824eaaa2c7"
          ]
        },
        "id": "YlFx9h82h81u",
        "outputId": "bb5e633e-a035-4afd-8873-a5e7628e3a0b"
      },
      "outputs": [],
      "source": [
        "run_inference(cb_df, model, tokenizer, gen_config)"
      ]
    },
    {
      "cell_type": "code",
      "execution_count": null,
      "metadata": {
        "id": "kwMJZnJBhO-A"
      },
      "outputs": [],
      "source": [
        "# runtime.unassign()"
      ]
    },
    {
      "cell_type": "markdown",
      "metadata": {
        "id": "qSFu1FwaiA90"
      },
      "source": [
        "### Testing"
      ]
    },
    {
      "cell_type": "code",
      "execution_count": null,
      "metadata": {
        "colab": {
          "base_uri": "https://localhost:8080/"
        },
        "id": "rqgixK6pg-8B",
        "outputId": "0608471a-b690-4941-c8c6-200908739db7"
      },
      "outputs": [],
      "source": [
        "sample_row = cb_df[cb_df[\"org_name\"] == \"Zuora\"].iloc[0]\n",
        "# sample_row = founder_subset[founder_subset[\"org_name\"] == \"Fabric\"].iloc[0]\n",
        "messages = format_messages(sample_row)\n",
        "\n",
        "input_ids = tokenizer.apply_chat_template(messages, return_tensors=\"pt\", tokenize=True).to(model.device)\n",
        "with torch.no_grad():\n",
        "    output = model.generate(input_ids=input_ids, generation_config=gen_config)\n",
        "\n",
        "output_ids = output[0][input_ids.shape[-1]:]\n",
        "decoded = tokenizer.decode(output_ids, skip_special_tokens=True)\n",
        "score = parse_score(decoded)\n",
        "\n",
        "print(\"Prompt:\\n\", messages[1][\"content\"])\n",
        "print()\n",
        "print(\"Raw Output:\\n\", decoded.strip())\n",
        "print(\"Score:\", score)\n"
      ]
    }
  ],
  "metadata": {
    "accelerator": "GPU",
    "colab": {
      "collapsed_sections": [
        "VMLwJrxXELCX",
        "PC9Gy0Wu6z_s",
        "ox8BJYwrxVjq",
        "orpO530AXg3b",
        "CPfzvInHF-2o",
        "ynYG4VxqH-Ry",
        "2FnAv4hN5Hs2",
        "wgpN6Fhh6SEj",
        "JJT9W5f46Xuy",
        "pdgExc6V6pjm",
        "6GC04qnFoFAF",
        "kHHX6kJdiF0r"
      ],
      "gpuType": "A100",
      "machine_shape": "hm",
      "provenance": []
    },
    "kernelspec": {
      "display_name": "Python 3",
      "name": "python3"
    },
    "language_info": {
      "name": "python"
    },
    "widgets": {
      "application/vnd.jupyter.widget-state+json": {
        "076d866848ac4545b54f7db4c0307c4d": {
          "model_module": "@jupyter-widgets/base",
          "model_module_version": "1.2.0",
          "model_name": "LayoutModel",
          "state": {
            "_model_module": "@jupyter-widgets/base",
            "_model_module_version": "1.2.0",
            "_model_name": "LayoutModel",
            "_view_count": null,
            "_view_module": "@jupyter-widgets/base",
            "_view_module_version": "1.2.0",
            "_view_name": "LayoutView",
            "align_content": null,
            "align_items": null,
            "align_self": null,
            "border": null,
            "bottom": null,
            "display": null,
            "flex": null,
            "flex_flow": null,
            "grid_area": null,
            "grid_auto_columns": null,
            "grid_auto_flow": null,
            "grid_auto_rows": null,
            "grid_column": null,
            "grid_gap": null,
            "grid_row": null,
            "grid_template_areas": null,
            "grid_template_columns": null,
            "grid_template_rows": null,
            "height": null,
            "justify_content": null,
            "justify_items": null,
            "left": null,
            "margin": null,
            "max_height": null,
            "max_width": null,
            "min_height": null,
            "min_width": null,
            "object_fit": null,
            "object_position": null,
            "order": null,
            "overflow": null,
            "overflow_x": null,
            "overflow_y": null,
            "padding": null,
            "right": null,
            "top": null,
            "visibility": null,
            "width": null
          }
        },
        "08ad3d6fd031483fa3fe40998543d382": {
          "model_module": "@jupyter-widgets/controls",
          "model_module_version": "1.5.0",
          "model_name": "FloatProgressModel",
          "state": {
            "_dom_classes": [],
            "_model_module": "@jupyter-widgets/controls",
            "_model_module_version": "1.5.0",
            "_model_name": "FloatProgressModel",
            "_view_count": null,
            "_view_module": "@jupyter-widgets/controls",
            "_view_module_version": "1.5.0",
            "_view_name": "ProgressView",
            "bar_style": "success",
            "description": "",
            "description_tooltip": null,
            "layout": "IPY_MODEL_7c91f37a688b4ad98f2b4c62f805b9c7",
            "max": 4,
            "min": 0,
            "orientation": "horizontal",
            "style": "IPY_MODEL_b1aac3085f414d2bb2e656ba56c02745",
            "value": 4
          }
        },
        "0e178c23ba60436e9fcb87d52bfafabe": {
          "model_module": "@jupyter-widgets/base",
          "model_module_version": "1.2.0",
          "model_name": "LayoutModel",
          "state": {
            "_model_module": "@jupyter-widgets/base",
            "_model_module_version": "1.2.0",
            "_model_name": "LayoutModel",
            "_view_count": null,
            "_view_module": "@jupyter-widgets/base",
            "_view_module_version": "1.2.0",
            "_view_name": "LayoutView",
            "align_content": null,
            "align_items": null,
            "align_self": null,
            "border": null,
            "bottom": null,
            "display": null,
            "flex": null,
            "flex_flow": null,
            "grid_area": null,
            "grid_auto_columns": null,
            "grid_auto_flow": null,
            "grid_auto_rows": null,
            "grid_column": null,
            "grid_gap": null,
            "grid_row": null,
            "grid_template_areas": null,
            "grid_template_columns": null,
            "grid_template_rows": null,
            "height": null,
            "justify_content": null,
            "justify_items": null,
            "left": null,
            "margin": null,
            "max_height": null,
            "max_width": null,
            "min_height": null,
            "min_width": null,
            "object_fit": null,
            "object_position": null,
            "order": null,
            "overflow": null,
            "overflow_x": null,
            "overflow_y": null,
            "padding": null,
            "right": null,
            "top": null,
            "visibility": null,
            "width": null
          }
        },
        "167291f0d95a4b6883d38c01105f273f": {
          "model_module": "@jupyter-widgets/controls",
          "model_module_version": "1.5.0",
          "model_name": "HBoxModel",
          "state": {
            "_dom_classes": [],
            "_model_module": "@jupyter-widgets/controls",
            "_model_module_version": "1.5.0",
            "_model_name": "HBoxModel",
            "_view_count": null,
            "_view_module": "@jupyter-widgets/controls",
            "_view_module_version": "1.5.0",
            "_view_name": "HBoxView",
            "box_style": "",
            "children": [
              "IPY_MODEL_48acd15181ce4a9f922f2cdfbd4cad15",
              "IPY_MODEL_ce1edb8e40554274914ec64611a9f8c1",
              "IPY_MODEL_4d1dd4d6950e4af7b9eba21d4f349ec4"
            ],
            "layout": "IPY_MODEL_2fdd9f2078474d79b762d6af4b3c5b71"
          }
        },
        "1a80af84ddd34be6818b2010bfbe1777": {
          "model_module": "@jupyter-widgets/controls",
          "model_module_version": "1.5.0",
          "model_name": "ProgressStyleModel",
          "state": {
            "_model_module": "@jupyter-widgets/controls",
            "_model_module_version": "1.5.0",
            "_model_name": "ProgressStyleModel",
            "_view_count": null,
            "_view_module": "@jupyter-widgets/base",
            "_view_module_version": "1.2.0",
            "_view_name": "StyleView",
            "bar_color": null,
            "description_width": ""
          }
        },
        "23c33346a2cd4188bf954b6fea703f10": {
          "model_module": "@jupyter-widgets/controls",
          "model_module_version": "1.5.0",
          "model_name": "DescriptionStyleModel",
          "state": {
            "_model_module": "@jupyter-widgets/controls",
            "_model_module_version": "1.5.0",
            "_model_name": "DescriptionStyleModel",
            "_view_count": null,
            "_view_module": "@jupyter-widgets/base",
            "_view_module_version": "1.2.0",
            "_view_name": "StyleView",
            "description_width": ""
          }
        },
        "2528b3ee99ac4d0889700a9404ee6b96": {
          "model_module": "@jupyter-widgets/controls",
          "model_module_version": "1.5.0",
          "model_name": "HTMLModel",
          "state": {
            "_dom_classes": [],
            "_model_module": "@jupyter-widgets/controls",
            "_model_module_version": "1.5.0",
            "_model_name": "HTMLModel",
            "_view_count": null,
            "_view_module": "@jupyter-widgets/controls",
            "_view_module_version": "1.5.0",
            "_view_name": "HTMLView",
            "description": "",
            "description_tooltip": null,
            "layout": "IPY_MODEL_27ddc0e80c8a4898a9aeca8858b7febb",
            "placeholder": "​",
            "style": "IPY_MODEL_f03675971e3f44218841904ac4d4144b",
            "value": "Loading checkpoint shards: 100%"
          }
        },
        "27ddc0e80c8a4898a9aeca8858b7febb": {
          "model_module": "@jupyter-widgets/base",
          "model_module_version": "1.2.0",
          "model_name": "LayoutModel",
          "state": {
            "_model_module": "@jupyter-widgets/base",
            "_model_module_version": "1.2.0",
            "_model_name": "LayoutModel",
            "_view_count": null,
            "_view_module": "@jupyter-widgets/base",
            "_view_module_version": "1.2.0",
            "_view_name": "LayoutView",
            "align_content": null,
            "align_items": null,
            "align_self": null,
            "border": null,
            "bottom": null,
            "display": null,
            "flex": null,
            "flex_flow": null,
            "grid_area": null,
            "grid_auto_columns": null,
            "grid_auto_flow": null,
            "grid_auto_rows": null,
            "grid_column": null,
            "grid_gap": null,
            "grid_row": null,
            "grid_template_areas": null,
            "grid_template_columns": null,
            "grid_template_rows": null,
            "height": null,
            "justify_content": null,
            "justify_items": null,
            "left": null,
            "margin": null,
            "max_height": null,
            "max_width": null,
            "min_height": null,
            "min_width": null,
            "object_fit": null,
            "object_position": null,
            "order": null,
            "overflow": null,
            "overflow_x": null,
            "overflow_y": null,
            "padding": null,
            "right": null,
            "top": null,
            "visibility": null,
            "width": null
          }
        },
        "2a5d51dc47fa4a3999c0f49347ec99b6": {
          "model_module": "@jupyter-widgets/base",
          "model_module_version": "1.2.0",
          "model_name": "LayoutModel",
          "state": {
            "_model_module": "@jupyter-widgets/base",
            "_model_module_version": "1.2.0",
            "_model_name": "LayoutModel",
            "_view_count": null,
            "_view_module": "@jupyter-widgets/base",
            "_view_module_version": "1.2.0",
            "_view_name": "LayoutView",
            "align_content": null,
            "align_items": null,
            "align_self": null,
            "border": null,
            "bottom": null,
            "display": null,
            "flex": null,
            "flex_flow": null,
            "grid_area": null,
            "grid_auto_columns": null,
            "grid_auto_flow": null,
            "grid_auto_rows": null,
            "grid_column": null,
            "grid_gap": null,
            "grid_row": null,
            "grid_template_areas": null,
            "grid_template_columns": null,
            "grid_template_rows": null,
            "height": null,
            "justify_content": null,
            "justify_items": null,
            "left": null,
            "margin": null,
            "max_height": null,
            "max_width": null,
            "min_height": null,
            "min_width": null,
            "object_fit": null,
            "object_position": null,
            "order": null,
            "overflow": null,
            "overflow_x": null,
            "overflow_y": null,
            "padding": null,
            "right": null,
            "top": null,
            "visibility": null,
            "width": null
          }
        },
        "2d5b0dfa9a184415bfb19eff4f0e59ac": {
          "model_module": "@jupyter-widgets/base",
          "model_module_version": "1.2.0",
          "model_name": "LayoutModel",
          "state": {
            "_model_module": "@jupyter-widgets/base",
            "_model_module_version": "1.2.0",
            "_model_name": "LayoutModel",
            "_view_count": null,
            "_view_module": "@jupyter-widgets/base",
            "_view_module_version": "1.2.0",
            "_view_name": "LayoutView",
            "align_content": null,
            "align_items": null,
            "align_self": null,
            "border": null,
            "bottom": null,
            "display": null,
            "flex": null,
            "flex_flow": null,
            "grid_area": null,
            "grid_auto_columns": null,
            "grid_auto_flow": null,
            "grid_auto_rows": null,
            "grid_column": null,
            "grid_gap": null,
            "grid_row": null,
            "grid_template_areas": null,
            "grid_template_columns": null,
            "grid_template_rows": null,
            "height": null,
            "justify_content": null,
            "justify_items": null,
            "left": null,
            "margin": null,
            "max_height": null,
            "max_width": null,
            "min_height": null,
            "min_width": null,
            "object_fit": null,
            "object_position": null,
            "order": null,
            "overflow": null,
            "overflow_x": null,
            "overflow_y": null,
            "padding": null,
            "right": null,
            "top": null,
            "visibility": null,
            "width": null
          }
        },
        "2fdd9f2078474d79b762d6af4b3c5b71": {
          "model_module": "@jupyter-widgets/base",
          "model_module_version": "1.2.0",
          "model_name": "LayoutModel",
          "state": {
            "_model_module": "@jupyter-widgets/base",
            "_model_module_version": "1.2.0",
            "_model_name": "LayoutModel",
            "_view_count": null,
            "_view_module": "@jupyter-widgets/base",
            "_view_module_version": "1.2.0",
            "_view_name": "LayoutView",
            "align_content": null,
            "align_items": null,
            "align_self": null,
            "border": null,
            "bottom": null,
            "display": null,
            "flex": null,
            "flex_flow": null,
            "grid_area": null,
            "grid_auto_columns": null,
            "grid_auto_flow": null,
            "grid_auto_rows": null,
            "grid_column": null,
            "grid_gap": null,
            "grid_row": null,
            "grid_template_areas": null,
            "grid_template_columns": null,
            "grid_template_rows": null,
            "height": null,
            "justify_content": null,
            "justify_items": null,
            "left": null,
            "margin": null,
            "max_height": null,
            "max_width": null,
            "min_height": null,
            "min_width": null,
            "object_fit": null,
            "object_position": null,
            "order": null,
            "overflow": null,
            "overflow_x": null,
            "overflow_y": null,
            "padding": null,
            "right": null,
            "top": null,
            "visibility": null,
            "width": null
          }
        },
        "324b8939bc0d41529e6b6cd44844c946": {
          "model_module": "@jupyter-widgets/controls",
          "model_module_version": "1.5.0",
          "model_name": "DescriptionStyleModel",
          "state": {
            "_model_module": "@jupyter-widgets/controls",
            "_model_module_version": "1.5.0",
            "_model_name": "DescriptionStyleModel",
            "_view_count": null,
            "_view_module": "@jupyter-widgets/base",
            "_view_module_version": "1.2.0",
            "_view_name": "StyleView",
            "description_width": ""
          }
        },
        "333add43632b49da853e97d16e3a25bf": {
          "model_module": "@jupyter-widgets/controls",
          "model_module_version": "1.5.0",
          "model_name": "HBoxModel",
          "state": {
            "_dom_classes": [],
            "_model_module": "@jupyter-widgets/controls",
            "_model_module_version": "1.5.0",
            "_model_name": "HBoxModel",
            "_view_count": null,
            "_view_module": "@jupyter-widgets/controls",
            "_view_module_version": "1.5.0",
            "_view_name": "HBoxView",
            "box_style": "",
            "children": [
              "IPY_MODEL_2528b3ee99ac4d0889700a9404ee6b96",
              "IPY_MODEL_08ad3d6fd031483fa3fe40998543d382",
              "IPY_MODEL_8f8f3e5f38a9403e8be7a380cb9a8851"
            ],
            "layout": "IPY_MODEL_651b680ce1bb461982d816b6d2e3aeac"
          }
        },
        "34dbc7221e014f299e6c3041249bc610": {
          "model_module": "@jupyter-widgets/base",
          "model_module_version": "1.2.0",
          "model_name": "LayoutModel",
          "state": {
            "_model_module": "@jupyter-widgets/base",
            "_model_module_version": "1.2.0",
            "_model_name": "LayoutModel",
            "_view_count": null,
            "_view_module": "@jupyter-widgets/base",
            "_view_module_version": "1.2.0",
            "_view_name": "LayoutView",
            "align_content": null,
            "align_items": null,
            "align_self": null,
            "border": null,
            "bottom": null,
            "display": null,
            "flex": null,
            "flex_flow": null,
            "grid_area": null,
            "grid_auto_columns": null,
            "grid_auto_flow": null,
            "grid_auto_rows": null,
            "grid_column": null,
            "grid_gap": null,
            "grid_row": null,
            "grid_template_areas": null,
            "grid_template_columns": null,
            "grid_template_rows": null,
            "height": null,
            "justify_content": null,
            "justify_items": null,
            "left": null,
            "margin": null,
            "max_height": null,
            "max_width": null,
            "min_height": null,
            "min_width": null,
            "object_fit": null,
            "object_position": null,
            "order": null,
            "overflow": null,
            "overflow_x": null,
            "overflow_y": null,
            "padding": null,
            "right": null,
            "top": null,
            "visibility": null,
            "width": null
          }
        },
        "44d83545a23141ab9e1baa7f7a7125fe": {
          "model_module": "@jupyter-widgets/controls",
          "model_module_version": "1.5.0",
          "model_name": "DescriptionStyleModel",
          "state": {
            "_model_module": "@jupyter-widgets/controls",
            "_model_module_version": "1.5.0",
            "_model_name": "DescriptionStyleModel",
            "_view_count": null,
            "_view_module": "@jupyter-widgets/base",
            "_view_module_version": "1.2.0",
            "_view_name": "StyleView",
            "description_width": ""
          }
        },
        "462dc64c56204a16904af26baf8d1c89": {
          "model_module": "@jupyter-widgets/base",
          "model_module_version": "1.2.0",
          "model_name": "LayoutModel",
          "state": {
            "_model_module": "@jupyter-widgets/base",
            "_model_module_version": "1.2.0",
            "_model_name": "LayoutModel",
            "_view_count": null,
            "_view_module": "@jupyter-widgets/base",
            "_view_module_version": "1.2.0",
            "_view_name": "LayoutView",
            "align_content": null,
            "align_items": null,
            "align_self": null,
            "border": null,
            "bottom": null,
            "display": null,
            "flex": null,
            "flex_flow": null,
            "grid_area": null,
            "grid_auto_columns": null,
            "grid_auto_flow": null,
            "grid_auto_rows": null,
            "grid_column": null,
            "grid_gap": null,
            "grid_row": null,
            "grid_template_areas": null,
            "grid_template_columns": null,
            "grid_template_rows": null,
            "height": null,
            "justify_content": null,
            "justify_items": null,
            "left": null,
            "margin": null,
            "max_height": null,
            "max_width": null,
            "min_height": null,
            "min_width": null,
            "object_fit": null,
            "object_position": null,
            "order": null,
            "overflow": null,
            "overflow_x": null,
            "overflow_y": null,
            "padding": null,
            "right": null,
            "top": null,
            "visibility": null,
            "width": null
          }
        },
        "473a53dbae244951b68a50527c58756c": {
          "model_module": "@jupyter-widgets/base",
          "model_module_version": "1.2.0",
          "model_name": "LayoutModel",
          "state": {
            "_model_module": "@jupyter-widgets/base",
            "_model_module_version": "1.2.0",
            "_model_name": "LayoutModel",
            "_view_count": null,
            "_view_module": "@jupyter-widgets/base",
            "_view_module_version": "1.2.0",
            "_view_name": "LayoutView",
            "align_content": null,
            "align_items": null,
            "align_self": null,
            "border": null,
            "bottom": null,
            "display": null,
            "flex": null,
            "flex_flow": null,
            "grid_area": null,
            "grid_auto_columns": null,
            "grid_auto_flow": null,
            "grid_auto_rows": null,
            "grid_column": null,
            "grid_gap": null,
            "grid_row": null,
            "grid_template_areas": null,
            "grid_template_columns": null,
            "grid_template_rows": null,
            "height": null,
            "justify_content": null,
            "justify_items": null,
            "left": null,
            "margin": null,
            "max_height": null,
            "max_width": null,
            "min_height": null,
            "min_width": null,
            "object_fit": null,
            "object_position": null,
            "order": null,
            "overflow": null,
            "overflow_x": null,
            "overflow_y": null,
            "padding": null,
            "right": null,
            "top": null,
            "visibility": null,
            "width": null
          }
        },
        "48acd15181ce4a9f922f2cdfbd4cad15": {
          "model_module": "@jupyter-widgets/controls",
          "model_module_version": "1.5.0",
          "model_name": "HTMLModel",
          "state": {
            "_dom_classes": [],
            "_model_module": "@jupyter-widgets/controls",
            "_model_module_version": "1.5.0",
            "_model_name": "HTMLModel",
            "_view_count": null,
            "_view_module": "@jupyter-widgets/controls",
            "_view_module_version": "1.5.0",
            "_view_name": "HTMLView",
            "description": "",
            "description_tooltip": null,
            "layout": "IPY_MODEL_473a53dbae244951b68a50527c58756c",
            "placeholder": "​",
            "style": "IPY_MODEL_b0faf28958084c9fb034d6b68a77c82a",
            "value": "Loading checkpoint shards: 100%"
          }
        },
        "4b76f732f9d34c379d14f2def7c69de3": {
          "model_module": "@jupyter-widgets/controls",
          "model_module_version": "1.5.0",
          "model_name": "ProgressStyleModel",
          "state": {
            "_model_module": "@jupyter-widgets/controls",
            "_model_module_version": "1.5.0",
            "_model_name": "ProgressStyleModel",
            "_view_count": null,
            "_view_module": "@jupyter-widgets/base",
            "_view_module_version": "1.2.0",
            "_view_name": "StyleView",
            "bar_color": null,
            "description_width": ""
          }
        },
        "4d1dd4d6950e4af7b9eba21d4f349ec4": {
          "model_module": "@jupyter-widgets/controls",
          "model_module_version": "1.5.0",
          "model_name": "HTMLModel",
          "state": {
            "_dom_classes": [],
            "_model_module": "@jupyter-widgets/controls",
            "_model_module_version": "1.5.0",
            "_model_name": "HTMLModel",
            "_view_count": null,
            "_view_module": "@jupyter-widgets/controls",
            "_view_module_version": "1.5.0",
            "_view_name": "HTMLView",
            "description": "",
            "description_tooltip": null,
            "layout": "IPY_MODEL_462dc64c56204a16904af26baf8d1c89",
            "placeholder": "​",
            "style": "IPY_MODEL_a87c4906b93840ec849b74361365aa53",
            "value": " 4/4 [00:07&lt;00:00,  1.74s/it]"
          }
        },
        "4dba844c7e7e4091b4ad67824eaaa2c7": {
          "model_module": "@jupyter-widgets/controls",
          "model_module_version": "1.5.0",
          "model_name": "DescriptionStyleModel",
          "state": {
            "_model_module": "@jupyter-widgets/controls",
            "_model_module_version": "1.5.0",
            "_model_name": "DescriptionStyleModel",
            "_view_count": null,
            "_view_module": "@jupyter-widgets/base",
            "_view_module_version": "1.2.0",
            "_view_name": "StyleView",
            "description_width": ""
          }
        },
        "651b680ce1bb461982d816b6d2e3aeac": {
          "model_module": "@jupyter-widgets/base",
          "model_module_version": "1.2.0",
          "model_name": "LayoutModel",
          "state": {
            "_model_module": "@jupyter-widgets/base",
            "_model_module_version": "1.2.0",
            "_model_name": "LayoutModel",
            "_view_count": null,
            "_view_module": "@jupyter-widgets/base",
            "_view_module_version": "1.2.0",
            "_view_name": "LayoutView",
            "align_content": null,
            "align_items": null,
            "align_self": null,
            "border": null,
            "bottom": null,
            "display": null,
            "flex": null,
            "flex_flow": null,
            "grid_area": null,
            "grid_auto_columns": null,
            "grid_auto_flow": null,
            "grid_auto_rows": null,
            "grid_column": null,
            "grid_gap": null,
            "grid_row": null,
            "grid_template_areas": null,
            "grid_template_columns": null,
            "grid_template_rows": null,
            "height": null,
            "justify_content": null,
            "justify_items": null,
            "left": null,
            "margin": null,
            "max_height": null,
            "max_width": null,
            "min_height": null,
            "min_width": null,
            "object_fit": null,
            "object_position": null,
            "order": null,
            "overflow": null,
            "overflow_x": null,
            "overflow_y": null,
            "padding": null,
            "right": null,
            "top": null,
            "visibility": null,
            "width": null
          }
        },
        "77349d6967904e4ca671b4bd0502806d": {
          "model_module": "@jupyter-widgets/controls",
          "model_module_version": "1.5.0",
          "model_name": "DescriptionStyleModel",
          "state": {
            "_model_module": "@jupyter-widgets/controls",
            "_model_module_version": "1.5.0",
            "_model_name": "DescriptionStyleModel",
            "_view_count": null,
            "_view_module": "@jupyter-widgets/base",
            "_view_module_version": "1.2.0",
            "_view_name": "StyleView",
            "description_width": ""
          }
        },
        "79e4c0b37c3a4f5090f74fc0742f2747": {
          "model_module": "@jupyter-widgets/controls",
          "model_module_version": "1.5.0",
          "model_name": "ProgressStyleModel",
          "state": {
            "_model_module": "@jupyter-widgets/controls",
            "_model_module_version": "1.5.0",
            "_model_name": "ProgressStyleModel",
            "_view_count": null,
            "_view_module": "@jupyter-widgets/base",
            "_view_module_version": "1.2.0",
            "_view_name": "StyleView",
            "bar_color": null,
            "description_width": ""
          }
        },
        "7c91f37a688b4ad98f2b4c62f805b9c7": {
          "model_module": "@jupyter-widgets/base",
          "model_module_version": "1.2.0",
          "model_name": "LayoutModel",
          "state": {
            "_model_module": "@jupyter-widgets/base",
            "_model_module_version": "1.2.0",
            "_model_name": "LayoutModel",
            "_view_count": null,
            "_view_module": "@jupyter-widgets/base",
            "_view_module_version": "1.2.0",
            "_view_name": "LayoutView",
            "align_content": null,
            "align_items": null,
            "align_self": null,
            "border": null,
            "bottom": null,
            "display": null,
            "flex": null,
            "flex_flow": null,
            "grid_area": null,
            "grid_auto_columns": null,
            "grid_auto_flow": null,
            "grid_auto_rows": null,
            "grid_column": null,
            "grid_gap": null,
            "grid_row": null,
            "grid_template_areas": null,
            "grid_template_columns": null,
            "grid_template_rows": null,
            "height": null,
            "justify_content": null,
            "justify_items": null,
            "left": null,
            "margin": null,
            "max_height": null,
            "max_width": null,
            "min_height": null,
            "min_width": null,
            "object_fit": null,
            "object_position": null,
            "order": null,
            "overflow": null,
            "overflow_x": null,
            "overflow_y": null,
            "padding": null,
            "right": null,
            "top": null,
            "visibility": null,
            "width": null
          }
        },
        "7ccbfa9a403540aa9d17ef1f0925a059": {
          "model_module": "@jupyter-widgets/controls",
          "model_module_version": "1.5.0",
          "model_name": "HTMLModel",
          "state": {
            "_dom_classes": [],
            "_model_module": "@jupyter-widgets/controls",
            "_model_module_version": "1.5.0",
            "_model_name": "HTMLModel",
            "_view_count": null,
            "_view_module": "@jupyter-widgets/controls",
            "_view_module_version": "1.5.0",
            "_view_name": "HTMLView",
            "description": "",
            "description_tooltip": null,
            "layout": "IPY_MODEL_2a5d51dc47fa4a3999c0f49347ec99b6",
            "placeholder": "​",
            "style": "IPY_MODEL_324b8939bc0d41529e6b6cd44844c946",
            "value": "100%"
          }
        },
        "7f72b287d0214c8d8321cec74d1aff98": {
          "model_module": "@jupyter-widgets/base",
          "model_module_version": "1.2.0",
          "model_name": "LayoutModel",
          "state": {
            "_model_module": "@jupyter-widgets/base",
            "_model_module_version": "1.2.0",
            "_model_name": "LayoutModel",
            "_view_count": null,
            "_view_module": "@jupyter-widgets/base",
            "_view_module_version": "1.2.0",
            "_view_name": "LayoutView",
            "align_content": null,
            "align_items": null,
            "align_self": null,
            "border": null,
            "bottom": null,
            "display": null,
            "flex": null,
            "flex_flow": null,
            "grid_area": null,
            "grid_auto_columns": null,
            "grid_auto_flow": null,
            "grid_auto_rows": null,
            "grid_column": null,
            "grid_gap": null,
            "grid_row": null,
            "grid_template_areas": null,
            "grid_template_columns": null,
            "grid_template_rows": null,
            "height": null,
            "justify_content": null,
            "justify_items": null,
            "left": null,
            "margin": null,
            "max_height": null,
            "max_width": null,
            "min_height": null,
            "min_width": null,
            "object_fit": null,
            "object_position": null,
            "order": null,
            "overflow": null,
            "overflow_x": null,
            "overflow_y": null,
            "padding": null,
            "right": null,
            "top": null,
            "visibility": null,
            "width": null
          }
        },
        "80143d0260f64b6cb5a17e7b31ec654a": {
          "model_module": "@jupyter-widgets/controls",
          "model_module_version": "1.5.0",
          "model_name": "HBoxModel",
          "state": {
            "_dom_classes": [],
            "_model_module": "@jupyter-widgets/controls",
            "_model_module_version": "1.5.0",
            "_model_name": "HBoxModel",
            "_view_count": null,
            "_view_module": "@jupyter-widgets/controls",
            "_view_module_version": "1.5.0",
            "_view_name": "HBoxView",
            "box_style": "",
            "children": [
              "IPY_MODEL_7ccbfa9a403540aa9d17ef1f0925a059",
              "IPY_MODEL_c608301722934ba8a7bdd4698faa66f8",
              "IPY_MODEL_c24eeee4da5e4cbd8548ae30fd3f5785"
            ],
            "layout": "IPY_MODEL_0e178c23ba60436e9fcb87d52bfafabe"
          }
        },
        "8a678367f92342bf88654242bbaf6ff1": {
          "model_module": "@jupyter-widgets/base",
          "model_module_version": "1.2.0",
          "model_name": "LayoutModel",
          "state": {
            "_model_module": "@jupyter-widgets/base",
            "_model_module_version": "1.2.0",
            "_model_name": "LayoutModel",
            "_view_count": null,
            "_view_module": "@jupyter-widgets/base",
            "_view_module_version": "1.2.0",
            "_view_name": "LayoutView",
            "align_content": null,
            "align_items": null,
            "align_self": null,
            "border": null,
            "bottom": null,
            "display": null,
            "flex": null,
            "flex_flow": null,
            "grid_area": null,
            "grid_auto_columns": null,
            "grid_auto_flow": null,
            "grid_auto_rows": null,
            "grid_column": null,
            "grid_gap": null,
            "grid_row": null,
            "grid_template_areas": null,
            "grid_template_columns": null,
            "grid_template_rows": null,
            "height": null,
            "justify_content": null,
            "justify_items": null,
            "left": null,
            "margin": null,
            "max_height": null,
            "max_width": null,
            "min_height": null,
            "min_width": null,
            "object_fit": null,
            "object_position": null,
            "order": null,
            "overflow": null,
            "overflow_x": null,
            "overflow_y": null,
            "padding": null,
            "right": null,
            "top": null,
            "visibility": null,
            "width": null
          }
        },
        "8f8f3e5f38a9403e8be7a380cb9a8851": {
          "model_module": "@jupyter-widgets/controls",
          "model_module_version": "1.5.0",
          "model_name": "HTMLModel",
          "state": {
            "_dom_classes": [],
            "_model_module": "@jupyter-widgets/controls",
            "_model_module_version": "1.5.0",
            "_model_name": "HTMLModel",
            "_view_count": null,
            "_view_module": "@jupyter-widgets/controls",
            "_view_module_version": "1.5.0",
            "_view_name": "HTMLView",
            "description": "",
            "description_tooltip": null,
            "layout": "IPY_MODEL_df9b50030351419eb8658705650f8432",
            "placeholder": "​",
            "style": "IPY_MODEL_23c33346a2cd4188bf954b6fea703f10",
            "value": " 4/4 [00:07&lt;00:00,  1.88s/it]"
          }
        },
        "9e0c209486734020a7b49d1026f3a894": {
          "model_module": "@jupyter-widgets/controls",
          "model_module_version": "1.5.0",
          "model_name": "HTMLModel",
          "state": {
            "_dom_classes": [],
            "_model_module": "@jupyter-widgets/controls",
            "_model_module_version": "1.5.0",
            "_model_name": "HTMLModel",
            "_view_count": null,
            "_view_module": "@jupyter-widgets/controls",
            "_view_module_version": "1.5.0",
            "_view_name": "HTMLView",
            "description": "",
            "description_tooltip": null,
            "layout": "IPY_MODEL_8a678367f92342bf88654242bbaf6ff1",
            "placeholder": "​",
            "style": "IPY_MODEL_4dba844c7e7e4091b4ad67824eaaa2c7",
            "value": " 155/155 [02:59&lt;00:00,  1.15s/it]"
          }
        },
        "a87c4906b93840ec849b74361365aa53": {
          "model_module": "@jupyter-widgets/controls",
          "model_module_version": "1.5.0",
          "model_name": "DescriptionStyleModel",
          "state": {
            "_model_module": "@jupyter-widgets/controls",
            "_model_module_version": "1.5.0",
            "_model_name": "DescriptionStyleModel",
            "_view_count": null,
            "_view_module": "@jupyter-widgets/base",
            "_view_module_version": "1.2.0",
            "_view_name": "StyleView",
            "description_width": ""
          }
        },
        "b0faf28958084c9fb034d6b68a77c82a": {
          "model_module": "@jupyter-widgets/controls",
          "model_module_version": "1.5.0",
          "model_name": "DescriptionStyleModel",
          "state": {
            "_model_module": "@jupyter-widgets/controls",
            "_model_module_version": "1.5.0",
            "_model_name": "DescriptionStyleModel",
            "_view_count": null,
            "_view_module": "@jupyter-widgets/base",
            "_view_module_version": "1.2.0",
            "_view_name": "StyleView",
            "description_width": ""
          }
        },
        "b1aac3085f414d2bb2e656ba56c02745": {
          "model_module": "@jupyter-widgets/controls",
          "model_module_version": "1.5.0",
          "model_name": "ProgressStyleModel",
          "state": {
            "_model_module": "@jupyter-widgets/controls",
            "_model_module_version": "1.5.0",
            "_model_name": "ProgressStyleModel",
            "_view_count": null,
            "_view_module": "@jupyter-widgets/base",
            "_view_module_version": "1.2.0",
            "_view_name": "StyleView",
            "bar_color": null,
            "description_width": ""
          }
        },
        "b899942a0e824e82a566c95115e57535": {
          "model_module": "@jupyter-widgets/base",
          "model_module_version": "1.2.0",
          "model_name": "LayoutModel",
          "state": {
            "_model_module": "@jupyter-widgets/base",
            "_model_module_version": "1.2.0",
            "_model_name": "LayoutModel",
            "_view_count": null,
            "_view_module": "@jupyter-widgets/base",
            "_view_module_version": "1.2.0",
            "_view_name": "LayoutView",
            "align_content": null,
            "align_items": null,
            "align_self": null,
            "border": null,
            "bottom": null,
            "display": null,
            "flex": null,
            "flex_flow": null,
            "grid_area": null,
            "grid_auto_columns": null,
            "grid_auto_flow": null,
            "grid_auto_rows": null,
            "grid_column": null,
            "grid_gap": null,
            "grid_row": null,
            "grid_template_areas": null,
            "grid_template_columns": null,
            "grid_template_rows": null,
            "height": null,
            "justify_content": null,
            "justify_items": null,
            "left": null,
            "margin": null,
            "max_height": null,
            "max_width": null,
            "min_height": null,
            "min_width": null,
            "object_fit": null,
            "object_position": null,
            "order": null,
            "overflow": null,
            "overflow_x": null,
            "overflow_y": null,
            "padding": null,
            "right": null,
            "top": null,
            "visibility": null,
            "width": null
          }
        },
        "b9e26d59b34c4a79b7dbc63c5b0d62a1": {
          "model_module": "@jupyter-widgets/base",
          "model_module_version": "1.2.0",
          "model_name": "LayoutModel",
          "state": {
            "_model_module": "@jupyter-widgets/base",
            "_model_module_version": "1.2.0",
            "_model_name": "LayoutModel",
            "_view_count": null,
            "_view_module": "@jupyter-widgets/base",
            "_view_module_version": "1.2.0",
            "_view_name": "LayoutView",
            "align_content": null,
            "align_items": null,
            "align_self": null,
            "border": null,
            "bottom": null,
            "display": null,
            "flex": null,
            "flex_flow": null,
            "grid_area": null,
            "grid_auto_columns": null,
            "grid_auto_flow": null,
            "grid_auto_rows": null,
            "grid_column": null,
            "grid_gap": null,
            "grid_row": null,
            "grid_template_areas": null,
            "grid_template_columns": null,
            "grid_template_rows": null,
            "height": null,
            "justify_content": null,
            "justify_items": null,
            "left": null,
            "margin": null,
            "max_height": null,
            "max_width": null,
            "min_height": null,
            "min_width": null,
            "object_fit": null,
            "object_position": null,
            "order": null,
            "overflow": null,
            "overflow_x": null,
            "overflow_y": null,
            "padding": null,
            "right": null,
            "top": null,
            "visibility": null,
            "width": null
          }
        },
        "c24eeee4da5e4cbd8548ae30fd3f5785": {
          "model_module": "@jupyter-widgets/controls",
          "model_module_version": "1.5.0",
          "model_name": "HTMLModel",
          "state": {
            "_dom_classes": [],
            "_model_module": "@jupyter-widgets/controls",
            "_model_module_version": "1.5.0",
            "_model_name": "HTMLModel",
            "_view_count": null,
            "_view_module": "@jupyter-widgets/controls",
            "_view_module_version": "1.5.0",
            "_view_name": "HTMLView",
            "description": "",
            "description_tooltip": null,
            "layout": "IPY_MODEL_b899942a0e824e82a566c95115e57535",
            "placeholder": "​",
            "style": "IPY_MODEL_77349d6967904e4ca671b4bd0502806d",
            "value": " 558/558 [13:17&lt;00:00,  1.27s/it]"
          }
        },
        "c608301722934ba8a7bdd4698faa66f8": {
          "model_module": "@jupyter-widgets/controls",
          "model_module_version": "1.5.0",
          "model_name": "FloatProgressModel",
          "state": {
            "_dom_classes": [],
            "_model_module": "@jupyter-widgets/controls",
            "_model_module_version": "1.5.0",
            "_model_name": "FloatProgressModel",
            "_view_count": null,
            "_view_module": "@jupyter-widgets/controls",
            "_view_module_version": "1.5.0",
            "_view_name": "ProgressView",
            "bar_style": "success",
            "description": "",
            "description_tooltip": null,
            "layout": "IPY_MODEL_b9e26d59b34c4a79b7dbc63c5b0d62a1",
            "max": 558,
            "min": 0,
            "orientation": "horizontal",
            "style": "IPY_MODEL_1a80af84ddd34be6818b2010bfbe1777",
            "value": 558
          }
        },
        "ce1edb8e40554274914ec64611a9f8c1": {
          "model_module": "@jupyter-widgets/controls",
          "model_module_version": "1.5.0",
          "model_name": "FloatProgressModel",
          "state": {
            "_dom_classes": [],
            "_model_module": "@jupyter-widgets/controls",
            "_model_module_version": "1.5.0",
            "_model_name": "FloatProgressModel",
            "_view_count": null,
            "_view_module": "@jupyter-widgets/controls",
            "_view_module_version": "1.5.0",
            "_view_name": "ProgressView",
            "bar_style": "success",
            "description": "",
            "description_tooltip": null,
            "layout": "IPY_MODEL_2d5b0dfa9a184415bfb19eff4f0e59ac",
            "max": 4,
            "min": 0,
            "orientation": "horizontal",
            "style": "IPY_MODEL_4b76f732f9d34c379d14f2def7c69de3",
            "value": 4
          }
        },
        "dc3cf087a5204f7b80418f49688e17ec": {
          "model_module": "@jupyter-widgets/controls",
          "model_module_version": "1.5.0",
          "model_name": "HBoxModel",
          "state": {
            "_dom_classes": [],
            "_model_module": "@jupyter-widgets/controls",
            "_model_module_version": "1.5.0",
            "_model_name": "HBoxModel",
            "_view_count": null,
            "_view_module": "@jupyter-widgets/controls",
            "_view_module_version": "1.5.0",
            "_view_name": "HBoxView",
            "box_style": "",
            "children": [
              "IPY_MODEL_e1462c1faf2542149b190579a3097724",
              "IPY_MODEL_f79b96eaf0094c65842c79e1d6c977db",
              "IPY_MODEL_9e0c209486734020a7b49d1026f3a894"
            ],
            "layout": "IPY_MODEL_076d866848ac4545b54f7db4c0307c4d"
          }
        },
        "df9b50030351419eb8658705650f8432": {
          "model_module": "@jupyter-widgets/base",
          "model_module_version": "1.2.0",
          "model_name": "LayoutModel",
          "state": {
            "_model_module": "@jupyter-widgets/base",
            "_model_module_version": "1.2.0",
            "_model_name": "LayoutModel",
            "_view_count": null,
            "_view_module": "@jupyter-widgets/base",
            "_view_module_version": "1.2.0",
            "_view_name": "LayoutView",
            "align_content": null,
            "align_items": null,
            "align_self": null,
            "border": null,
            "bottom": null,
            "display": null,
            "flex": null,
            "flex_flow": null,
            "grid_area": null,
            "grid_auto_columns": null,
            "grid_auto_flow": null,
            "grid_auto_rows": null,
            "grid_column": null,
            "grid_gap": null,
            "grid_row": null,
            "grid_template_areas": null,
            "grid_template_columns": null,
            "grid_template_rows": null,
            "height": null,
            "justify_content": null,
            "justify_items": null,
            "left": null,
            "margin": null,
            "max_height": null,
            "max_width": null,
            "min_height": null,
            "min_width": null,
            "object_fit": null,
            "object_position": null,
            "order": null,
            "overflow": null,
            "overflow_x": null,
            "overflow_y": null,
            "padding": null,
            "right": null,
            "top": null,
            "visibility": null,
            "width": null
          }
        },
        "e1462c1faf2542149b190579a3097724": {
          "model_module": "@jupyter-widgets/controls",
          "model_module_version": "1.5.0",
          "model_name": "HTMLModel",
          "state": {
            "_dom_classes": [],
            "_model_module": "@jupyter-widgets/controls",
            "_model_module_version": "1.5.0",
            "_model_name": "HTMLModel",
            "_view_count": null,
            "_view_module": "@jupyter-widgets/controls",
            "_view_module_version": "1.5.0",
            "_view_name": "HTMLView",
            "description": "",
            "description_tooltip": null,
            "layout": "IPY_MODEL_34dbc7221e014f299e6c3041249bc610",
            "placeholder": "​",
            "style": "IPY_MODEL_44d83545a23141ab9e1baa7f7a7125fe",
            "value": "100%"
          }
        },
        "f03675971e3f44218841904ac4d4144b": {
          "model_module": "@jupyter-widgets/controls",
          "model_module_version": "1.5.0",
          "model_name": "DescriptionStyleModel",
          "state": {
            "_model_module": "@jupyter-widgets/controls",
            "_model_module_version": "1.5.0",
            "_model_name": "DescriptionStyleModel",
            "_view_count": null,
            "_view_module": "@jupyter-widgets/base",
            "_view_module_version": "1.2.0",
            "_view_name": "StyleView",
            "description_width": ""
          }
        },
        "f79b96eaf0094c65842c79e1d6c977db": {
          "model_module": "@jupyter-widgets/controls",
          "model_module_version": "1.5.0",
          "model_name": "FloatProgressModel",
          "state": {
            "_dom_classes": [],
            "_model_module": "@jupyter-widgets/controls",
            "_model_module_version": "1.5.0",
            "_model_name": "FloatProgressModel",
            "_view_count": null,
            "_view_module": "@jupyter-widgets/controls",
            "_view_module_version": "1.5.0",
            "_view_name": "ProgressView",
            "bar_style": "success",
            "description": "",
            "description_tooltip": null,
            "layout": "IPY_MODEL_7f72b287d0214c8d8321cec74d1aff98",
            "max": 155,
            "min": 0,
            "orientation": "horizontal",
            "style": "IPY_MODEL_79e4c0b37c3a4f5090f74fc0742f2747",
            "value": 155
          }
        }
      }
    }
  },
  "nbformat": 4,
  "nbformat_minor": 0
}
